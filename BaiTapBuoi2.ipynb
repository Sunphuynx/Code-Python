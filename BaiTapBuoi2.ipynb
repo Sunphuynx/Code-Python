{
  "nbformat": 4,
  "nbformat_minor": 0,
  "metadata": {
    "colab": {
      "provenance": []
    },
    "kernelspec": {
      "name": "python3",
      "display_name": "Python 3"
    },
    "language_info": {
      "name": "python"
    }
  },
  "cells": [
    {
      "cell_type": "markdown",
      "source": [
        "5. Write a Python program to get a single string from two given strings, separated by a space and\n",
        "swap the first two characters of each string.\n",
        "Sample String : 'abc', 'xyz'\n",
        "Expected Result : 'xyc abz'"
      ],
      "metadata": {
        "id": "z3Ezr6jmSX8_"
      }
    },
    {
      "cell_type": "code",
      "execution_count": 126,
      "metadata": {
        "colab": {
          "base_uri": "https://localhost:8080/"
        },
        "id": "dvX7HYkHSTZH",
        "outputId": "bb49cef4-1336-4c25-febc-f09ba8df6d42"
      },
      "outputs": [
        {
          "output_type": "stream",
          "name": "stdout",
          "text": [
            "Bài 5:\n",
            "Sample String : 'abc', 'xyz'\n",
            "Expected Result : 'xyc abz'\n"
          ]
        }
      ],
      "source": [
        "def swap_first_two_chars(str1, str2):\n",
        "    new_str1 = str2[:2] + str1[2:]\n",
        "    new_str2 = str1[:2] + str2[2:]\n",
        "    return new_str1 + ' ' + new_str2\n",
        "\n",
        "# Kiểm tra bài làm\n",
        "print(\"Bài 5:\")\n",
        "sample_string1 = 'abc'\n",
        "sample_string2 = 'xyz'\n",
        "result = swap_first_two_chars(sample_string1, sample_string2)\n",
        "print(f\"Sample String : '{sample_string1}', '{sample_string2}'\")\n",
        "print(f\"Expected Result : '{result}'\")"
      ]
    },
    {
      "cell_type": "markdown",
      "source": [
        "6. Write a Python program to add 'ing' at the end of a given string (length should be at least 3). If\n",
        "the given string already ends with 'ing', add 'ly' instead. If the string length of the given string is\n",
        "less than 3, leave it unchanged.\n",
        "Sample String : 'abc'\n",
        "Expected Result : 'abcing'\n",
        "Sample String : 'string'\n",
        "Expected Result : 'stringly'"
      ],
      "metadata": {
        "id": "IN56t2lzTTCe"
      }
    },
    {
      "cell_type": "code",
      "source": [
        "def add_ing_ly(str1):\n",
        "    if len(str1) < 3:\n",
        "        return str1\n",
        "    elif str1.endswith('ing'):\n",
        "        return str1 + 'ly'\n",
        "    else:\n",
        "        return str1 + 'ing'\n",
        "\n",
        "# Kiểm tra bài làm\n",
        "print(\"Bài 6:\")\n",
        "test1 = 'abc'\n",
        "test2 = 'string'\n",
        "print(f\"Sample String : '{test1}'\")\n",
        "print(f\"Expected Result : '{add_ing_ly(test1)}'\")  # Kết quả: 'abcing'\n",
        "print(f\"Sample String : '{test2}'\")\n",
        "print(f\"Expected Result : '{add_ing_ly(test2)}'\")  # Kết quả: 'stringly'"
      ],
      "metadata": {
        "colab": {
          "base_uri": "https://localhost:8080/"
        },
        "id": "79Hldje7TVoJ",
        "outputId": "48e488ba-1bde-4ad6-eb8b-7aac194d80b0"
      },
      "execution_count": 127,
      "outputs": [
        {
          "output_type": "stream",
          "name": "stdout",
          "text": [
            "Bài 6:\n",
            "Sample String : 'abc'\n",
            "Expected Result : 'abcing'\n",
            "Sample String : 'string'\n",
            "Expected Result : 'stringly'\n"
          ]
        }
      ]
    },
    {
      "cell_type": "markdown",
      "source": [
        "7. Write a Python program to find the first appearance of the substrings 'not' and 'poor' in a given\n",
        "string. If 'not' follows 'poor', replace the whole 'not'...'poor' substring with 'good'. Return the\n",
        "resulting string.\n",
        "Sample String : 'The lyrics is not that poor!'\n",
        "'The lyrics is poor!'\n",
        "Expected Result : 'The lyrics is good!'"
      ],
      "metadata": {
        "id": "Z1S019kKTZzf"
      }
    },
    {
      "cell_type": "code",
      "source": [
        "def not_poor(str1):\n",
        "    not_index = str1.find('not')\n",
        "    poor_index = str1.find('poor')\n",
        "\n",
        "    if not_index != -1 and poor_index != -1 and not_index < poor_index:\n",
        "        return str1[:not_index] + 'good' + str1[poor_index+4:]\n",
        "    else:\n",
        "        return str1\n",
        "\n",
        "# Kiểm tra bài làm\n",
        "print(\"Bài 7:\")\n",
        "test1 = 'The lyrics is not that poor!'\n",
        "test2 = 'The lyrics is poor!'\n",
        "print(f\"Sample String : '{test1}'\")\n",
        "print(f\"Expected Result : '{not_poor(test1)}'\")  # Kết quả: 'The lyrics is good!'\n",
        "print(f\"Sample String : '{test2}'\")\n",
        "print(f\"Expected Result : '{not_poor(test2)}'\")  # Kết quả: 'The lyrics is poor!'"
      ],
      "metadata": {
        "colab": {
          "base_uri": "https://localhost:8080/"
        },
        "id": "Zwh_xZePTccJ",
        "outputId": "c47e692a-3b99-42ce-8664-1ecd056cb5b8"
      },
      "execution_count": 128,
      "outputs": [
        {
          "output_type": "stream",
          "name": "stdout",
          "text": [
            "Bài 7:\n",
            "Sample String : 'The lyrics is not that poor!'\n",
            "Expected Result : 'The lyrics is good!'\n",
            "Sample String : 'The lyrics is poor!'\n",
            "Expected Result : 'The lyrics is poor!'\n"
          ]
        }
      ]
    },
    {
      "cell_type": "markdown",
      "source": [
        "8. Write a Python function that takes a list of words and return the longest word and the length\n",
        "of the longest one.\n",
        "Sample Output:\n",
        "Longest word: Exercises\n",
        "Length of the longest word: 9"
      ],
      "metadata": {
        "id": "dpmC454iTeyZ"
      }
    },
    {
      "cell_type": "code",
      "source": [
        "def find_longest_word(words_list):\n",
        "    max_length = 0\n",
        "    longest = \"\"\n",
        "\n",
        "    for word in words_list:\n",
        "        if len(word) > max_length:\n",
        "            max_length = len(word)\n",
        "            longest = word\n",
        "\n",
        "    return longest, max_length\n",
        "\n",
        "# Kiểm tra bài làm\n",
        "print(\"Bài 8:\")\n",
        "words = [\"Python\", \"Exercises\", \"Learning\", \"Code\"]\n",
        "longest, length = find_longest_word(words)\n",
        "print(f\"Longest word: {longest}\")\n",
        "print(f\"Length of the longest word: {length}\")"
      ],
      "metadata": {
        "colab": {
          "base_uri": "https://localhost:8080/"
        },
        "id": "Nlh_IimbTh5g",
        "outputId": "1345ebb8-a64a-4e89-fd7f-b13732bfdcda"
      },
      "execution_count": 129,
      "outputs": [
        {
          "output_type": "stream",
          "name": "stdout",
          "text": [
            "Bài 8:\n",
            "Longest word: Exercises\n",
            "Length of the longest word: 9\n"
          ]
        }
      ]
    },
    {
      "cell_type": "markdown",
      "source": [
        "9. Write a Python program to remove the nth index character from a nonempty string."
      ],
      "metadata": {
        "id": "1ehhA1LoTkt7"
      }
    },
    {
      "cell_type": "code",
      "source": [
        "def remove_char_at_index(str1, n):\n",
        "    if n < 0 or n >= len(str1):\n",
        "        return \"Index out of range\"\n",
        "    return str1[:n] + str1[n+1:]\n",
        "\n",
        "# Kiểm tra bài làm\n",
        "print(\"Bài 9:\")\n",
        "test_string = \"Python\"\n",
        "n = 3\n",
        "print(f\"Original string: {test_string}\")\n",
        "print(f\"After removing character at index {n}: {remove_char_at_index(test_string, n)}\")"
      ],
      "metadata": {
        "colab": {
          "base_uri": "https://localhost:8080/"
        },
        "id": "U-n9Jm5DTmc7",
        "outputId": "00466a38-d12d-42dc-95bb-0fb29d055b4a"
      },
      "execution_count": 130,
      "outputs": [
        {
          "output_type": "stream",
          "name": "stdout",
          "text": [
            "Bài 9:\n",
            "Original string: Python\n",
            "After removing character at index 3: Pyton\n"
          ]
        }
      ]
    },
    {
      "cell_type": "markdown",
      "source": [
        "10. Write a Python program to change a given string to a newly string where the first and last\n",
        "chars have been exchanged."
      ],
      "metadata": {
        "id": "KLP6XtdaToJm"
      }
    },
    {
      "cell_type": "code",
      "source": [
        "def swap_first_last_chars(str1):\n",
        "    if len(str1) <= 1:\n",
        "        return str1\n",
        "    return str1[-1] + str1[1:-1] + str1[0]\n",
        "\n",
        "# Kiểm tra bài làm\n",
        "print(\"Bài 10:\")\n",
        "test_string = \"Python\"\n",
        "print(f\"Original string: {test_string}\")\n",
        "print(f\"After swapping first and last characters: {swap_first_last_chars(test_string)}\")"
      ],
      "metadata": {
        "colab": {
          "base_uri": "https://localhost:8080/"
        },
        "id": "IcQGuEr7TpuF",
        "outputId": "b52fd3a8-a0dd-4c28-fb52-e1aff9ab8448"
      },
      "execution_count": 131,
      "outputs": [
        {
          "output_type": "stream",
          "name": "stdout",
          "text": [
            "Bài 10:\n",
            "Original string: Python\n",
            "After swapping first and last characters: nythoP\n"
          ]
        }
      ]
    },
    {
      "cell_type": "markdown",
      "source": [
        "11. Write a Python program to remove characters that have odd index values in a given string."
      ],
      "metadata": {
        "id": "p-RgtnEzTroH"
      }
    },
    {
      "cell_type": "code",
      "source": [
        "def remove_odd_index_chars(str1):\n",
        "    result = \"\"\n",
        "    for i in range(len(str1)):\n",
        "        if i % 2 == 0:\n",
        "            result += str1[i]\n",
        "    return result\n",
        "\n",
        "# Kiểm tra bài làm\n",
        "print(\"Bài 11:\")\n",
        "test_string = \"Python\"\n",
        "print(f\"Original string: {test_string}\")\n",
        "print(f\"After removing odd index characters: {remove_odd_index_chars(test_string)}\")"
      ],
      "metadata": {
        "colab": {
          "base_uri": "https://localhost:8080/"
        },
        "id": "2nkt4cIATtpV",
        "outputId": "f2339ef3-ecf8-451d-c4c2-fbb888123834"
      },
      "execution_count": 132,
      "outputs": [
        {
          "output_type": "stream",
          "name": "stdout",
          "text": [
            "Bài 11:\n",
            "Original string: Python\n",
            "After removing odd index characters: Pto\n"
          ]
        }
      ]
    },
    {
      "cell_type": "markdown",
      "source": [
        "12. Write a Python program to count the occurrences of each word in a given sentence."
      ],
      "metadata": {
        "id": "Zn6B6GmgTwMK"
      }
    },
    {
      "cell_type": "code",
      "source": [
        "def word_count(str1):\n",
        "    words = str1.split()\n",
        "    word_counts = {}\n",
        "\n",
        "    for word in words:\n",
        "        # Loại bỏ dấu câu và chuyển thành chữ thường\n",
        "        clean_word = word.lower().strip('.,!?;:')\n",
        "        if clean_word in word_counts:\n",
        "            word_counts[clean_word] += 1\n",
        "        else:\n",
        "            word_counts[clean_word] = 1\n",
        "\n",
        "    return word_counts\n",
        "\n",
        "# Kiểm tra bài làm\n",
        "print(\"Bài 12:\")\n",
        "sentence = \"The quick brown fox jumps over the lazy dog. The dog barks.\"\n",
        "print(f\"Original sentence: {sentence}\")\n",
        "print(f\"Word count: {word_count(sentence)}\")"
      ],
      "metadata": {
        "colab": {
          "base_uri": "https://localhost:8080/"
        },
        "id": "6whmunkiTx6o",
        "outputId": "1ff1c3d4-719d-4ded-d951-0aed69cb5bd0"
      },
      "execution_count": 133,
      "outputs": [
        {
          "output_type": "stream",
          "name": "stdout",
          "text": [
            "Bài 12:\n",
            "Original sentence: The quick brown fox jumps over the lazy dog. The dog barks.\n",
            "Word count: {'the': 3, 'quick': 1, 'brown': 1, 'fox': 1, 'jumps': 1, 'over': 1, 'lazy': 1, 'dog': 2, 'barks': 1}\n"
          ]
        }
      ]
    },
    {
      "cell_type": "markdown",
      "source": [
        "13. Write a Python script that takes input from the user and displays that input back in upper\n",
        "and lower cases."
      ],
      "metadata": {
        "id": "Z5giLyqLTz-V"
      }
    },
    {
      "cell_type": "code",
      "source": [
        "def change_case():\n",
        "    user_input = input(\"Nhập chuỗi của bạn: \")\n",
        "    print(f\"Chuỗi chữ hoa: {user_input.upper()}\")\n",
        "    print(f\"Chuỗi chữ thường: {user_input.lower()}\")\n",
        "\n",
        "change_case()\n",
        "\n",
        "# Ví dụ mô phỏng với chuỗi \"Hello World\"\n",
        "print(\"Bài 13:\")\n",
        "example_input = \"Hello World\"\n",
        "print(f\"Input: {example_input}\")\n",
        "print(f\"Uppercase: {example_input.upper()}\")\n",
        "print(f\"Lowercase: {example_input.lower()}\")"
      ],
      "metadata": {
        "colab": {
          "base_uri": "https://localhost:8080/"
        },
        "id": "-6oMfDhyTzqJ",
        "outputId": "085e4955-acfd-4811-e369-d9a60ab62e63"
      },
      "execution_count": 134,
      "outputs": [
        {
          "output_type": "stream",
          "name": "stdout",
          "text": [
            "Nhập chuỗi của bạn: Code Python\n",
            "Chuỗi chữ hoa: CODE PYTHON\n",
            "Chuỗi chữ thường: code python\n",
            "Bài 13:\n",
            "Input: Hello World\n",
            "Uppercase: HELLO WORLD\n",
            "Lowercase: hello world\n"
          ]
        }
      ]
    },
    {
      "cell_type": "markdown",
      "source": [
        "14. Write a Python program that accepts a comma-separated sequence of words as input and\n",
        "prints the distinct words in sorted form (alphanumerically).\n",
        "Sample Words : red, white, black, red, green, black\n",
        "Expected Result : black, green, red, white,red"
      ],
      "metadata": {
        "id": "24oYYAV6T2wf"
      }
    },
    {
      "cell_type": "code",
      "source": [
        "def sort_words(words):\n",
        "    word_list = [word.strip() for word in words.split(',')]\n",
        "    unique_words = sorted(set(word_list))\n",
        "    return ', '.join(unique_words)\n",
        "\n",
        "# Kiểm tra bài làm\n",
        "print(\"Bài 14:\")\n",
        "sample_words = \"red, white, black, red, green, black\"\n",
        "print(f\"Sample Words: {sample_words}\")\n",
        "print(f\"Expected Result: {sort_words(sample_words)}\")"
      ],
      "metadata": {
        "colab": {
          "base_uri": "https://localhost:8080/"
        },
        "id": "QSW8k87ZVRY4",
        "outputId": "f5206124-8fc8-495a-c033-5c6ee031888b"
      },
      "execution_count": 135,
      "outputs": [
        {
          "output_type": "stream",
          "name": "stdout",
          "text": [
            "Bài 14:\n",
            "Sample Words: red, white, black, red, green, black\n",
            "Expected Result: black, green, red, white\n"
          ]
        }
      ]
    },
    {
      "cell_type": "markdown",
      "source": [
        "15. Write a Python function to create an HTML string with tags around the word(s).\n",
        "Sample function and result :\n",
        "add_tags('i', 'Python') -> '<i>Python</i>'\n",
        "add_tags('b', 'Python Tutorial') -> '<b>Python Tutorial </b>'"
      ],
      "metadata": {
        "id": "NmE3zy4VT5HK"
      }
    },
    {
      "cell_type": "code",
      "source": [
        "def add_tags(tag, content):\n",
        "    return f\"<{tag}>{content}</{tag}>\"\n",
        "\n",
        "# Kiểm tra bài làm\n",
        "print(\"Bài 15:\")\n",
        "print(f\"add_tags('i', 'Python') -> {add_tags('i', 'Python')}\")\n",
        "print(f\"add_tags('b', 'Python Tutorial') -> {add_tags('b', 'Python Tutorial')}\")"
      ],
      "metadata": {
        "colab": {
          "base_uri": "https://localhost:8080/"
        },
        "id": "mBlliVGiVTYs",
        "outputId": "c47e4c94-83cb-432c-c892-05072a103b59"
      },
      "execution_count": 136,
      "outputs": [
        {
          "output_type": "stream",
          "name": "stdout",
          "text": [
            "Bài 15:\n",
            "add_tags('i', 'Python') -> <i>Python</i>\n",
            "add_tags('b', 'Python Tutorial') -> <b>Python Tutorial</b>\n"
          ]
        }
      ]
    },
    {
      "cell_type": "markdown",
      "source": [
        "16. Write a Python function to insert a string in the middle of a string.\n",
        "Sample function and result :\n",
        "insert_sting_middle('[[]]<<>>', ' Python') -> [[Python]]\n",
        "insert_sting_middle('{{}}', 'PHP') -> {{PHP}}"
      ],
      "metadata": {
        "id": "Fd6WvriHT6iC"
      }
    },
    {
      "cell_type": "code",
      "source": [
        "def insert_string_middle(original, to_insert):\n",
        "    mid = len(original) // 2\n",
        "    return original[:mid] + to_insert + original[mid:]\n",
        "\n",
        "# Kiểm tra bài làm\n",
        "print(\"Bài 16:\")\n",
        "print(f\"insert_string_middle('[[]]', ' Python') -> {insert_string_middle('[[]]', ' Python')}\")\n",
        "print(f\"insert_string_middle('{{}}', 'PHP') -> {insert_string_middle('{{}}', 'PHP')}\")"
      ],
      "metadata": {
        "colab": {
          "base_uri": "https://localhost:8080/"
        },
        "id": "VssVfGP3WGRL",
        "outputId": "a591b34b-41e0-47cb-a5f4-018e9c39ed66"
      },
      "execution_count": 137,
      "outputs": [
        {
          "output_type": "stream",
          "name": "stdout",
          "text": [
            "Bài 16:\n",
            "insert_string_middle('[[]]', ' Python') -> [[ Python]]\n",
            "insert_string_middle('{}', 'PHP') -> {{PHP}}\n"
          ]
        }
      ]
    },
    {
      "cell_type": "markdown",
      "source": [
        "17. Write a Python function to get a string made of 4 copies of the last two characters of a\n",
        "specified string (length must be at least 2).\n",
        "Sample function and result :\n",
        "insert_end('Python') -> onononon\n",
        "insert_end('Exercises') -> eseseses"
      ],
      "metadata": {
        "id": "PaeeGU_hT8hQ"
      }
    },
    {
      "cell_type": "code",
      "source": [
        "def insert_end(str1):\n",
        "    if len(str1) < 2:\n",
        "        return \"Chuỗi phải có ít nhất 2 ký tự\"\n",
        "    last_two = str1[-2:]\n",
        "    return last_two * 4\n",
        "\n",
        "# Kiểm tra bài làm\n",
        "print(\"Bài 17:\")\n",
        "print(f\"insert_end('Python') -> {insert_end('Python')}\")  # onononon\n",
        "print(f\"insert_end('Exercises') -> {insert_end('Exercises')}\")  # eseseses"
      ],
      "metadata": {
        "colab": {
          "base_uri": "https://localhost:8080/"
        },
        "id": "s6LY2XlLWJbK",
        "outputId": "158935c2-9663-48df-8571-38a7ea6543cf"
      },
      "execution_count": 138,
      "outputs": [
        {
          "output_type": "stream",
          "name": "stdout",
          "text": [
            "Bài 17:\n",
            "insert_end('Python') -> onononon\n",
            "insert_end('Exercises') -> eseseses\n"
          ]
        }
      ]
    },
    {
      "cell_type": "markdown",
      "source": [
        "18. Write a Python function to get a string made of the first three characters of a specified string.\n",
        "If the length of the string is less than 3, return the original string.\n",
        "Sample function and result :\n",
        "first_three('ipy') -> ipy\n",
        "first_three(' python') -> pyt"
      ],
      "metadata": {
        "id": "opN1ShalT--x"
      }
    },
    {
      "cell_type": "code",
      "source": [
        "def first_three(str1):\n",
        "    if len(str1) < 3:\n",
        "        return str1\n",
        "    return str1[:3]\n",
        "\n",
        "# Kiểm tra bài làm\n",
        "print(\"Bài 18:\")\n",
        "print(f\"first_three('ipy') -> {first_three('ipy')}\")  # ipy\n",
        "print(f\"first_three(' python') -> {first_three(' python')}\")  # py"
      ],
      "metadata": {
        "colab": {
          "base_uri": "https://localhost:8080/"
        },
        "id": "GRPyUhCSWK1S",
        "outputId": "a93f7b48-20b4-48f2-c026-70c52a13d40e"
      },
      "execution_count": 139,
      "outputs": [
        {
          "output_type": "stream",
          "name": "stdout",
          "text": [
            "Bài 18:\n",
            "first_three('ipy') -> ipy\n",
            "first_three(' python') ->  py\n"
          ]
        }
      ]
    },
    {
      "cell_type": "markdown",
      "source": [
        "19. Write a Python program to get the last part of a string before a specified character.\n",
        "https://www.w3resource.com/python-exercises\n",
        "https://www.w3resource.com/python"
      ],
      "metadata": {
        "id": "eypJGFQHUAtA"
      }
    },
    {
      "cell_type": "code",
      "source": [
        "def get_last_part(str1, char):\n",
        "    # Tìm vị trí cuối cùng của ký tự chỉ định\n",
        "    index = str1.rfind(char)\n",
        "    if index != -1:\n",
        "        return str1[:index]\n",
        "    return str1\n",
        "\n",
        "# Kiểm tra bài làm\n",
        "print(\"Bài 19:\")\n",
        "url = \"https://www.w3resource.com/python-exercises\"\n",
        "print(f\"Original string: {url}\")\n",
        "print(f\"Last part before '-': {get_last_part(url, '-')}\")"
      ],
      "metadata": {
        "colab": {
          "base_uri": "https://localhost:8080/"
        },
        "id": "LZrzbIVAWMFY",
        "outputId": "f348d833-dedb-4a8d-fb85-3ab0b87082a2"
      },
      "execution_count": 140,
      "outputs": [
        {
          "output_type": "stream",
          "name": "stdout",
          "text": [
            "Bài 19:\n",
            "Original string: https://www.w3resource.com/python-exercises\n",
            "Last part before '-': https://www.w3resource.com/python\n"
          ]
        }
      ]
    },
    {
      "cell_type": "markdown",
      "source": [
        "20. Write a Python function to reverse a string if its length is a multiple of 4."
      ],
      "metadata": {
        "id": "tfCXL3kyUB44"
      }
    },
    {
      "cell_type": "code",
      "source": [
        "def reverse_if_multiple_of_4(str1):\n",
        "    if len(str1) % 4 == 0:\n",
        "        return str1[::-1]\n",
        "    return str1\n",
        "\n",
        "# Kiểm tra bài làm\n",
        "print(\"Bài 20:\")\n",
        "test1 = \"Python\"  # 6 ký tự, không phải bội số của 4\n",
        "test2 = \"Abcd\"    # 4 ký tự, là bội số của 4\n",
        "print(f\"Original string: {test1}\")\n",
        "print(f\"Result: {reverse_if_multiple_of_4(test1)}\")\n",
        "print(f\"Original string: {test2}\")\n",
        "print(f\"Result: {reverse_if_multiple_of_4(test2)}\")"
      ],
      "metadata": {
        "colab": {
          "base_uri": "https://localhost:8080/"
        },
        "id": "S0eeSLVIWN4I",
        "outputId": "5d452ea2-29fd-4d44-c550-57a9f6a5b7b3"
      },
      "execution_count": 141,
      "outputs": [
        {
          "output_type": "stream",
          "name": "stdout",
          "text": [
            "Bài 20:\n",
            "Original string: Python\n",
            "Result: Python\n",
            "Original string: Abcd\n",
            "Result: dcbA\n"
          ]
        }
      ]
    },
    {
      "cell_type": "markdown",
      "source": [
        "21. Write a Python function to convert a given string to all uppercase if it contains at least 2\n",
        "uppercase characters in the first 4 characters."
      ],
      "metadata": {
        "id": "KbdljcSFUC8o"
      }
    },
    {
      "cell_type": "code",
      "source": [
        "def to_uppercase_if_condition(str1):\n",
        "    # Đếm số ký tự viết hoa trong 4 ký tự đầu\n",
        "    uppercase_count = sum(1 for c in str1[:4] if c.isupper())\n",
        "\n",
        "    if uppercase_count >= 2:\n",
        "        return str1.upper()\n",
        "    return str1\n",
        "\n",
        "# Kiểm tra bài làm\n",
        "print(\"Bài 21:\")\n",
        "test1 = \"Python\"    # Không đủ điều kiện\n",
        "test2 = \"PyThon\"    # Đủ điều kiện (2 chữ hoa trong 4 ký tự đầu)\n",
        "print(f\"Original string: {test1}\")\n",
        "print(f\"Result: {to_uppercase_if_condition(test1)}\")\n",
        "print(f\"Original string: {test2}\")\n",
        "print(f\"Result: {to_uppercase_if_condition(test2)}\")"
      ],
      "metadata": {
        "colab": {
          "base_uri": "https://localhost:8080/"
        },
        "id": "FbLVQBYNWPr1",
        "outputId": "6332d4e5-8b45-43de-bd74-50090117ee21"
      },
      "execution_count": 142,
      "outputs": [
        {
          "output_type": "stream",
          "name": "stdout",
          "text": [
            "Bài 21:\n",
            "Original string: Python\n",
            "Result: Python\n",
            "Original string: PyThon\n",
            "Result: PYTHON\n"
          ]
        }
      ]
    },
    {
      "cell_type": "markdown",
      "source": [
        "22.Write a Python program to sort a string lexicographically."
      ],
      "metadata": {
        "id": "5OtG2CIOUEFB"
      }
    },
    {
      "cell_type": "code",
      "source": [
        "def sort_string_lexicographically(str1):\n",
        "    return ''.join(sorted(str1))\n",
        "\n",
        "# Kiểm tra bài làm\n",
        "print(\"Bài 22:\")\n",
        "test_string = \"python\"\n",
        "print(f\"Original string: {test_string}\")\n",
        "print(f\"Sorted string: {sort_string_lexicographically(test_string)}\")"
      ],
      "metadata": {
        "colab": {
          "base_uri": "https://localhost:8080/"
        },
        "id": "7JUrVoi1WRNi",
        "outputId": "c50442ae-ee44-4871-94f8-b4782c1ccdcd"
      },
      "execution_count": 143,
      "outputs": [
        {
          "output_type": "stream",
          "name": "stdout",
          "text": [
            "Bài 22:\n",
            "Original string: python\n",
            "Sorted string: hnopty\n"
          ]
        }
      ]
    },
    {
      "cell_type": "markdown",
      "source": [
        "23. Write a Python program to remove a newline in Python."
      ],
      "metadata": {
        "id": "Xh5nI19ZUFh5"
      }
    },
    {
      "cell_type": "code",
      "source": [
        "def remove_newlines(str1):\n",
        "    return str1.replace('\\n', '')\n",
        "\n",
        "# Kiểm tra bài làm\n",
        "print(\"Bài 23:\")\n",
        "test_string = \"Python\\nProgramming\\nLanguage\"\n",
        "print(f\"Original string: {test_string}\")\n",
        "print(f\"After removing newlines: {remove_newlines(test_string)}\")"
      ],
      "metadata": {
        "colab": {
          "base_uri": "https://localhost:8080/"
        },
        "id": "9PyvQ3yrWSfD",
        "outputId": "ba19c502-7dd6-487e-f6d6-58445769c22d"
      },
      "execution_count": 144,
      "outputs": [
        {
          "output_type": "stream",
          "name": "stdout",
          "text": [
            "Bài 23:\n",
            "Original string: Python\n",
            "Programming\n",
            "Language\n",
            "After removing newlines: PythonProgrammingLanguage\n"
          ]
        }
      ]
    },
    {
      "cell_type": "markdown",
      "source": [
        "24. Write a Python program to check whether a string starts with specified characters."
      ],
      "metadata": {
        "id": "jHDowBZlUGtP"
      }
    },
    {
      "cell_type": "code",
      "source": [
        "def starts_with(str1, char):\n",
        "    return str1.startswith(char)\n",
        "\n",
        "# Kiểm tra bài làm\n",
        "print(\"Bài 24:\")\n",
        "test_string = \"Python Programming\"\n",
        "start_char1 = \"P\"\n",
        "start_char2 = \"J\"\n",
        "print(f\"String: {test_string}\")\n",
        "print(f\"Starts with '{start_char1}'? {starts_with(test_string, start_char1)}\")\n",
        "print(f\"Starts with '{start_char2}'? {starts_with(test_string, start_char2)}\")"
      ],
      "metadata": {
        "colab": {
          "base_uri": "https://localhost:8080/"
        },
        "id": "CHKXlN0FWTlP",
        "outputId": "271520aa-900f-4ed4-e015-e0ea1344f203"
      },
      "execution_count": 145,
      "outputs": [
        {
          "output_type": "stream",
          "name": "stdout",
          "text": [
            "Bài 24:\n",
            "String: Python Programming\n",
            "Starts with 'P'? True\n",
            "Starts with 'J'? False\n"
          ]
        }
      ]
    },
    {
      "cell_type": "markdown",
      "source": [
        "25. Write a Python program to create a Caesar encryption.\n",
        "Note : In cryptography, a Caesar cipher, also known as Caesar's cipher, the shift cipher, Caesar's\n",
        "code or Caesar shift, is one of the simplest and most widely known encryption techniques. It is a\n",
        "type of substitution cipher in which each letter in the plaintext is replaced by a letter some fixed\n",
        "number of positions down the alphabet. For example, with a left shift of 3, D would be replaced\n",
        "by A, E would become B, and so on. The method is named after Julius Caesar, who used it in his\n",
        "private correspondence."
      ],
      "metadata": {
        "id": "w68mcY3tUPjw"
      }
    },
    {
      "cell_type": "code",
      "source": [
        "def caesar_encrypt(text, shift):\n",
        "    \"\"\"\n",
        "    Mã hóa chuỗi văn bản bằng phương pháp Caesar với độ dịch chuyển shift.\n",
        "    \"\"\"\n",
        "    result = \"\"\n",
        "\n",
        "    for char in text:\n",
        "        if char.isalpha():\n",
        "            # Xác định ASCII offset (65 cho chữ hoa, 97 cho chữ thường)\n",
        "            ascii_offset = 65 if char.isupper() else 97\n",
        "            # Công thức mã hóa: (vị trí_trong_bảng_chữ_cái + shift) % 26\n",
        "            # Sau đó chuyển lại thành ký tự ASCII\n",
        "            encrypted_char = chr((ord(char) - ascii_offset + shift) % 26 + ascii_offset)\n",
        "            result += encrypted_char\n",
        "        else:\n",
        "            # Giữ nguyên các ký tự không phải chữ cái\n",
        "            result += char\n",
        "\n",
        "    return result\n",
        "\n",
        "def caesar_decrypt(encrypted_text, shift):\n",
        "    \"\"\"\n",
        "    Giải mã chuỗi đã mã hóa bằng Caesar với độ dịch chuyển shift.\n",
        "    \"\"\"\n",
        "    # Giải mã là mã hóa với độ dịch âm\n",
        "    return caesar_encrypt(encrypted_text, -shift)\n",
        "\n",
        "# Kiểm tra bài làm\n",
        "print(\"Bài 25:\")\n",
        "plain_text = \"Hello, World!\"\n",
        "shift = 3\n",
        "encrypted = caesar_encrypt(plain_text, shift)\n",
        "decrypted = caesar_decrypt(encrypted, shift)\n",
        "\n",
        "print(f\"Original text: {plain_text}\")\n",
        "print(f\"Encrypted text (shift={shift}): {encrypted}\")\n",
        "print(f\"Decrypted text: {decrypted}\")"
      ],
      "metadata": {
        "colab": {
          "base_uri": "https://localhost:8080/"
        },
        "id": "UmGkDne-WV1R",
        "outputId": "e3e7fc95-3108-4453-8a8f-a7fc2dd8dc22"
      },
      "execution_count": 146,
      "outputs": [
        {
          "output_type": "stream",
          "name": "stdout",
          "text": [
            "Bài 25:\n",
            "Original text: Hello, World!\n",
            "Encrypted text (shift=3): Khoor, Zruog!\n",
            "Decrypted text: Hello, World!\n"
          ]
        }
      ]
    },
    {
      "cell_type": "markdown",
      "source": [
        "26. Write a Python program to display formatted text (width=50) as output."
      ],
      "metadata": {
        "id": "vbdbRFICURYj"
      }
    },
    {
      "cell_type": "code",
      "source": [
        "import textwrap\n",
        "\n",
        "def format_text_with_width(text, width=50):\n",
        "    \"\"\"\n",
        "    Định dạng văn bản với chiều rộng cố định.\n",
        "    \"\"\"\n",
        "    formatted_text = textwrap.fill(text, width=width)\n",
        "    return formatted_text\n",
        "\n",
        "# Kiểm tra bài làm\n",
        "print(\"Bài 26:\")\n",
        "sample_text = \"Python is a widely used high-level, general-purpose, interpreted, dynamic programming language. Its design philosophy emphasizes code readability, and its syntax allows programmers to express concepts in fewer lines of code than possible in languages such as C++ or Java.\"\n",
        "print(\"Văn bản với chiều rộng 50:\")\n",
        "print(format_text_with_width(sample_text))"
      ],
      "metadata": {
        "colab": {
          "base_uri": "https://localhost:8080/"
        },
        "id": "Kj8AHbHpWYVh",
        "outputId": "61960974-b830-49df-de3f-e5b80b9f7ef4"
      },
      "execution_count": 147,
      "outputs": [
        {
          "output_type": "stream",
          "name": "stdout",
          "text": [
            "Bài 26:\n",
            "Văn bản với chiều rộng 50:\n",
            "Python is a widely used high-level, general-\n",
            "purpose, interpreted, dynamic programming\n",
            "language. Its design philosophy emphasizes code\n",
            "readability, and its syntax allows programmers to\n",
            "express concepts in fewer lines of code than\n",
            "possible in languages such as C++ or Java.\n"
          ]
        }
      ]
    },
    {
      "cell_type": "markdown",
      "source": [
        "27. Write a Python program to remove existing indentation from all of the lines in a given text."
      ],
      "metadata": {
        "id": "hE2i34seUSlD"
      }
    },
    {
      "cell_type": "code",
      "source": [
        "def remove_indentation(text):\n",
        "    \"\"\"\n",
        "    Xóa thụt đầu dòng từ tất cả các dòng trong văn bản.\n",
        "    \"\"\"\n",
        "    lines = text.splitlines()\n",
        "    # Sử dụng dedent từ textwrap hoặc strip() cho từng dòng\n",
        "    dedented_lines = [line.lstrip() for line in lines]\n",
        "    return '\\n'.join(dedented_lines)\n",
        "\n",
        "# Kiểm tra bài làm\n",
        "print(\"Bài 27:\")\n",
        "indented_text = \"\"\"\n",
        "    def hello():\n",
        "        print(\"Hello, World!\")\n",
        "\n",
        "    hello()\n",
        "\"\"\"\n",
        "print(\"Văn bản gốc:\")\n",
        "print(indented_text)\n",
        "print(\"\\nVăn bản sau khi xóa thụt đầu dòng:\")\n",
        "print(remove_indentation(indented_text))"
      ],
      "metadata": {
        "colab": {
          "base_uri": "https://localhost:8080/"
        },
        "id": "PS0t7XwtWacI",
        "outputId": "b122c9a4-ac08-4362-c3e7-e32bc514a77a"
      },
      "execution_count": 148,
      "outputs": [
        {
          "output_type": "stream",
          "name": "stdout",
          "text": [
            "Bài 27:\n",
            "Văn bản gốc:\n",
            "\n",
            "    def hello():\n",
            "        print(\"Hello, World!\")\n",
            "        \n",
            "    hello()\n",
            "\n",
            "\n",
            "Văn bản sau khi xóa thụt đầu dòng:\n",
            "\n",
            "def hello():\n",
            "print(\"Hello, World!\")\n",
            "\n",
            "hello()\n"
          ]
        }
      ]
    },
    {
      "cell_type": "markdown",
      "source": [
        "28. Write a Python program to add prefix text to all of the lines in a string."
      ],
      "metadata": {
        "id": "u2xntszVUT6h"
      }
    },
    {
      "cell_type": "code",
      "source": [
        "def add_prefix_to_lines(text, prefix):\n",
        "    \"\"\"\n",
        "    Thêm tiền tố vào tất cả các dòng trong chuỗi.\n",
        "    \"\"\"\n",
        "    lines = text.splitlines()\n",
        "    prefixed_lines = [prefix + line for line in lines]\n",
        "    return '\\n'.join(prefixed_lines)\n",
        "\n",
        "# Kiểm tra bài làm\n",
        "print(\"Bài 28:\")\n",
        "multi_line_text = \"\"\"Line 1\n",
        "Line 2\n",
        "Line 3\"\"\"\n",
        "prefix = \">>> \"\n",
        "print(\"Văn bản gốc:\")\n",
        "print(multi_line_text)\n",
        "print(\"\\nVăn bản sau khi thêm tiền tố:\")\n",
        "print(add_prefix_to_lines(multi_line_text, prefix))"
      ],
      "metadata": {
        "colab": {
          "base_uri": "https://localhost:8080/"
        },
        "id": "AVshOQr9WcCR",
        "outputId": "e5a92ea4-cce7-44fd-ad31-3c6d1dd4eb7e"
      },
      "execution_count": 149,
      "outputs": [
        {
          "output_type": "stream",
          "name": "stdout",
          "text": [
            "Bài 28:\n",
            "Văn bản gốc:\n",
            "Line 1\n",
            "Line 2\n",
            "Line 3\n",
            "\n",
            "Văn bản sau khi thêm tiền tố:\n",
            ">>> Line 1\n",
            ">>> Line 2\n",
            ">>> Line 3\n"
          ]
        }
      ]
    },
    {
      "cell_type": "markdown",
      "source": [
        "29. Write a Python program to set the indentation of the first line."
      ],
      "metadata": {
        "id": "xMA4wKJ8UVM0"
      }
    },
    {
      "cell_type": "code",
      "source": [
        "def set_first_line_indentation(text, indent):\n",
        "    \"\"\"\n",
        "    Đặt thụt đầu dòng cho dòng đầu tiên của văn bản.\n",
        "    \"\"\"\n",
        "    lines = text.splitlines()\n",
        "    if not lines:\n",
        "        return text\n",
        "\n",
        "    lines[0] = indent + lines[0]\n",
        "    return '\\n'.join(lines)\n",
        "\n",
        "# Kiểm tra bài làm\n",
        "print(\"Bài 29:\")\n",
        "sample_text = \"\"\"This is the first line.\n",
        "This is the second line.\n",
        "This is the third line.\"\"\"\n",
        "indent = \"    \"  # 4 dấu cách\n",
        "print(\"Văn bản gốc:\")\n",
        "print(sample_text)\n",
        "print(\"\\nVăn bản sau khi thụt đầu dòng đầu tiên:\")\n",
        "print(set_first_line_indentation(sample_text, indent))"
      ],
      "metadata": {
        "colab": {
          "base_uri": "https://localhost:8080/"
        },
        "id": "GN5zd_0mWd-A",
        "outputId": "c2a13679-139d-47cc-cc27-c7991f435021"
      },
      "execution_count": 150,
      "outputs": [
        {
          "output_type": "stream",
          "name": "stdout",
          "text": [
            "Bài 29:\n",
            "Văn bản gốc:\n",
            "This is the first line.\n",
            "This is the second line.\n",
            "This is the third line.\n",
            "\n",
            "Văn bản sau khi thụt đầu dòng đầu tiên:\n",
            "    This is the first line.\n",
            "This is the second line.\n",
            "This is the third line.\n"
          ]
        }
      ]
    },
    {
      "cell_type": "markdown",
      "source": [
        "30. Write a Python program to print the following numbers up to 2 decimal places."
      ],
      "metadata": {
        "id": "6OVCoNXaUWQD"
      }
    },
    {
      "cell_type": "code",
      "source": [
        "def print_with_two_decimals(number):\n",
        "    \"\"\"\n",
        "    In số với 2 chữ số thập phân.\n",
        "    \"\"\"\n",
        "    return f\"{number:.2f}\"\n",
        "\n",
        "# Kiểm tra bài làm\n",
        "print(\"Bài 30:\")\n",
        "numbers = [3.1415926, 12.5, 1, 3.6789]\n",
        "for number in numbers:\n",
        "    print(f\"Original number: {number}\")\n",
        "    print(f\"Formatted with 2 decimal places: {print_with_two_decimals(number)}\")\n",
        "    print()"
      ],
      "metadata": {
        "colab": {
          "base_uri": "https://localhost:8080/"
        },
        "id": "zt5OTLoVWfq1",
        "outputId": "38bf6748-1c05-472b-a778-121e1c6463de"
      },
      "execution_count": 151,
      "outputs": [
        {
          "output_type": "stream",
          "name": "stdout",
          "text": [
            "Bài 30:\n",
            "Original number: 3.1415926\n",
            "Formatted with 2 decimal places: 3.14\n",
            "\n",
            "Original number: 12.5\n",
            "Formatted with 2 decimal places: 12.50\n",
            "\n",
            "Original number: 1\n",
            "Formatted with 2 decimal places: 1.00\n",
            "\n",
            "Original number: 3.6789\n",
            "Formatted with 2 decimal places: 3.68\n",
            "\n"
          ]
        }
      ]
    },
    {
      "cell_type": "markdown",
      "source": [
        "31. Write a Python program to print the following numbers up to 2 decimal places with a sign."
      ],
      "metadata": {
        "id": "VYHIOsKPUXL4"
      }
    },
    {
      "cell_type": "code",
      "source": [
        "def print_with_sign_and_decimals(number):\n",
        "    return f\"{number:+.2f}\"\n",
        "\n",
        "print(\"Bài 31:\")\n",
        "print(f\"With sign and 2 decimal places: {print_with_sign_and_decimals(3.1415)}\")\n",
        "print(f\"With sign and 2 decimal places: {print_with_sign_and_decimals(-3.1415)}\")"
      ],
      "metadata": {
        "colab": {
          "base_uri": "https://localhost:8080/"
        },
        "id": "K9iybGB9WhhC",
        "outputId": "e0736b11-12e2-4618-cb12-26b04f371b6a"
      },
      "execution_count": 152,
      "outputs": [
        {
          "output_type": "stream",
          "name": "stdout",
          "text": [
            "Bài 31:\n",
            "With sign and 2 decimal places: +3.14\n",
            "With sign and 2 decimal places: -3.14\n"
          ]
        }
      ]
    },
    {
      "cell_type": "markdown",
      "source": [
        "32. Write a Python program to print the following positive and negative numbers with no\n",
        "decimal places."
      ],
      "metadata": {
        "id": "DL3JL0ygUatU"
      }
    },
    {
      "cell_type": "code",
      "source": [
        "def print_integers_no_decimals(number):\n",
        "    return f\"{number:.0f}\"\n",
        "\n",
        "print(\"\\nBài 32:\")\n",
        "print(f\"Positive integer without decimals: {print_integers_no_decimals(3.75)}\")\n",
        "print(f\"Negative integer without decimals: {print_integers_no_decimals(-3.75)}\")"
      ],
      "metadata": {
        "colab": {
          "base_uri": "https://localhost:8080/"
        },
        "id": "CKTYu0uIWq2U",
        "outputId": "1f7b01d8-f5ea-4110-8edc-8ce2701d2b06"
      },
      "execution_count": 153,
      "outputs": [
        {
          "output_type": "stream",
          "name": "stdout",
          "text": [
            "\n",
            "Bài 32:\n",
            "Positive integer without decimals: 4\n",
            "Negative integer without decimals: -4\n"
          ]
        }
      ]
    },
    {
      "cell_type": "markdown",
      "source": [
        "33. Write a Python program to print the following integers with zeros to the left of the specified\n",
        "width."
      ],
      "metadata": {
        "id": "Ur0q9fASUb9p"
      }
    },
    {
      "cell_type": "code",
      "source": [
        "def print_with_leading_zeros(number, width):\n",
        "    return f\"{number:0{width}d}\"\n",
        "\n",
        "print(\"\\nBài 33:\")\n",
        "print(f\"With leading zeros (width=6): {print_with_leading_zeros(123, 6)}\")"
      ],
      "metadata": {
        "colab": {
          "base_uri": "https://localhost:8080/"
        },
        "id": "3xX5jt9pW4MY",
        "outputId": "d988750d-70b2-4ab0-fe49-e90dc32cffbf"
      },
      "execution_count": 154,
      "outputs": [
        {
          "output_type": "stream",
          "name": "stdout",
          "text": [
            "\n",
            "Bài 33:\n",
            "With leading zeros (width=6): 000123\n"
          ]
        }
      ]
    },
    {
      "cell_type": "markdown",
      "source": [
        "34. Write a Python program to print the following integers with '*' to the right of the specified\n",
        "width."
      ],
      "metadata": {
        "id": "-aka0SZkUddY"
      }
    },
    {
      "cell_type": "code",
      "source": [
        "def print_with_right_stars(number, width):\n",
        "    return f\"{number:*<{width}d}\"\n",
        "\n",
        "print(\"\\nBài 34:\")\n",
        "print(f\"With right stars (width=6): {print_with_right_stars(123, 6)}\")"
      ],
      "metadata": {
        "colab": {
          "base_uri": "https://localhost:8080/"
        },
        "id": "tFOmtTwYW8lZ",
        "outputId": "029e4dee-a27e-45d7-d770-dcae4dcde06d"
      },
      "execution_count": 155,
      "outputs": [
        {
          "output_type": "stream",
          "name": "stdout",
          "text": [
            "\n",
            "Bài 34:\n",
            "With right stars (width=6): 123***\n"
          ]
        }
      ]
    },
    {
      "cell_type": "markdown",
      "source": [
        "35. Write a Python program to display a number with a comma separator."
      ],
      "metadata": {
        "id": "FBz861-zUeoc"
      }
    },
    {
      "cell_type": "code",
      "source": [
        "def print_with_comma_separator(number):\n",
        "    return f\"{number:,}\"\n",
        "\n",
        "print(\"\\nBài 35:\")\n",
        "print(f\"With comma separator: {print_with_comma_separator(1000000)}\")\n",
        "print(f\"With comma separator: {print_with_comma_separator(1234567890)}\")"
      ],
      "metadata": {
        "colab": {
          "base_uri": "https://localhost:8080/"
        },
        "id": "Q_kaq4A6XCLz",
        "outputId": "7c914186-fb5e-4f40-a51a-8eb73529aa29"
      },
      "execution_count": 156,
      "outputs": [
        {
          "output_type": "stream",
          "name": "stdout",
          "text": [
            "\n",
            "Bài 35:\n",
            "With comma separator: 1,000,000\n",
            "With comma separator: 1,234,567,890\n"
          ]
        }
      ]
    },
    {
      "cell_type": "markdown",
      "source": [
        "36. Write a Python program to format a number with a percentage."
      ],
      "metadata": {
        "id": "Ac1BDlwyUgFg"
      }
    },
    {
      "cell_type": "code",
      "source": [
        "def format_percentage(number):\n",
        "    return f\"{number:.2%}\"\n",
        "\n",
        "print(\"Bài 36:\")\n",
        "number = 0.25\n",
        "print(f\"Original number: {number}\")\n",
        "print(f\"Formatted as percentage: {format_percentage(number)}\")  # 25.00%"
      ],
      "metadata": {
        "colab": {
          "base_uri": "https://localhost:8080/"
        },
        "id": "eDVJ43qyXFVE",
        "outputId": "fb726949-3436-4f5d-e980-0efbed1e9c02"
      },
      "execution_count": 157,
      "outputs": [
        {
          "output_type": "stream",
          "name": "stdout",
          "text": [
            "Bài 36:\n",
            "Original number: 0.25\n",
            "Formatted as percentage: 25.00%\n"
          ]
        }
      ]
    },
    {
      "cell_type": "markdown",
      "source": [
        "37. Write a Python program to display a number in left, right, and center aligned with a width of 10."
      ],
      "metadata": {
        "id": "487Ep6mUUhyI"
      }
    },
    {
      "cell_type": "code",
      "source": [
        "def align_number(number):\n",
        "    left_aligned = f\"{number:<10}\"  # Căn lề trái\n",
        "    right_aligned = f\"{number:>10}\"  # Căn lề phải\n",
        "    center_aligned = f\"{number:^10}\"  # Căn giữa\n",
        "    return left_aligned, right_aligned, center_aligned\n",
        "\n",
        "print(\"\\nBài 37:\")\n",
        "number = 123\n",
        "left, right, center = align_number(number)\n",
        "print(f\"Left aligned: '{left}'\")\n",
        "print(f\"Right aligned: '{right}'\")\n",
        "print(f\"Center aligned: '{center}'\")"
      ],
      "metadata": {
        "colab": {
          "base_uri": "https://localhost:8080/"
        },
        "id": "zG4L5oiIXKh9",
        "outputId": "0ace33d7-15cd-405a-c1b1-910cb6037d46"
      },
      "execution_count": 158,
      "outputs": [
        {
          "output_type": "stream",
          "name": "stdout",
          "text": [
            "\n",
            "Bài 37:\n",
            "Left aligned: '123       '\n",
            "Right aligned: '       123'\n",
            "Center aligned: '   123    '\n"
          ]
        }
      ]
    },
    {
      "cell_type": "markdown",
      "source": [
        "38. Write a Python program to count occurrences of a substring in a string."
      ],
      "metadata": {
        "id": "9ffL16mdUkmE"
      }
    },
    {
      "cell_type": "code",
      "source": [
        "def count_substring(main_string, sub_string):\n",
        "    return main_string.count(sub_string)\n",
        "\n",
        "print(\"\\nBài 38:\")\n",
        "main_string = \"Python is awesome, isn't it? Python is my favorite language.\"\n",
        "sub_string = \"Python\"\n",
        "count = count_substring(main_string, sub_string)\n",
        "print(f\"Main string: {main_string}\")\n",
        "print(f\"Substring: {sub_string}\")\n",
        "print(f\"Count: {count}\")"
      ],
      "metadata": {
        "colab": {
          "base_uri": "https://localhost:8080/"
        },
        "id": "7jKDyusJXOyo",
        "outputId": "f40d0fa1-b683-4f07-a7f6-98d4735af604"
      },
      "execution_count": 159,
      "outputs": [
        {
          "output_type": "stream",
          "name": "stdout",
          "text": [
            "\n",
            "Bài 38:\n",
            "Main string: Python is awesome, isn't it? Python is my favorite language.\n",
            "Substring: Python\n",
            "Count: 2\n"
          ]
        }
      ]
    },
    {
      "cell_type": "markdown",
      "source": [
        "39. Write a Python program to reverse a string."
      ],
      "metadata": {
        "id": "EsPe0JXbUly7"
      }
    },
    {
      "cell_type": "code",
      "source": [
        "def reverse_string(string):\n",
        "    return string[::-1]\n",
        "\n",
        "print(\"\\nBài 39:\")\n",
        "string = \"Python\"\n",
        "print(f\"Original string: {string}\")\n",
        "print(f\"Reversed string: {reverse_string(string)}\")"
      ],
      "metadata": {
        "colab": {
          "base_uri": "https://localhost:8080/"
        },
        "id": "vwz56ei9XSMd",
        "outputId": "94bf2ade-4206-4bb4-b43f-ba93e54fcc5c"
      },
      "execution_count": 160,
      "outputs": [
        {
          "output_type": "stream",
          "name": "stdout",
          "text": [
            "\n",
            "Bài 39:\n",
            "Original string: Python\n",
            "Reversed string: nohtyP\n"
          ]
        }
      ]
    },
    {
      "cell_type": "markdown",
      "source": [
        "40. Write a Python program to reverse words in a string."
      ],
      "metadata": {
        "id": "-A9ALbSJUm0q"
      }
    },
    {
      "cell_type": "code",
      "source": [
        "def reverse_words(string):\n",
        "    words = string.split()\n",
        "    reversed_words = [word[::-1] for word in words]\n",
        "    return ' '.join(reversed_words)\n",
        "\n",
        "print(\"\\nBài 40:\")\n",
        "string = \"Python Programming Language\"\n",
        "print(f\"Original string: {string}\")\n",
        "print(f\"Words reversed: {reverse_words(string)}\")"
      ],
      "metadata": {
        "colab": {
          "base_uri": "https://localhost:8080/"
        },
        "id": "HwMHerMyXWFE",
        "outputId": "f5f806f4-8611-4ea1-8cdf-b32d0cc00ff9"
      },
      "execution_count": 161,
      "outputs": [
        {
          "output_type": "stream",
          "name": "stdout",
          "text": [
            "\n",
            "Bài 40:\n",
            "Original string: Python Programming Language\n",
            "Words reversed: nohtyP gnimmargorP egaugnaL\n"
          ]
        }
      ]
    },
    {
      "cell_type": "markdown",
      "source": [
        "41. Write a Python program to strip a set of characters from a string."
      ],
      "metadata": {
        "id": "SdIqnzEjUnxT"
      }
    },
    {
      "cell_type": "code",
      "source": [
        "def strip_chars(string, chars_to_remove):\n",
        "    return ''.join(c for c in string if c not in chars_to_remove)\n",
        "\n",
        "print(\"Bài 41:\")\n",
        "s = \"hello world!\"\n",
        "remove = \"aeiou\"\n",
        "print(f\"Original string: {s}\")\n",
        "print(f\"After stripping vowels: {strip_chars(s, remove)}\")"
      ],
      "metadata": {
        "colab": {
          "base_uri": "https://localhost:8080/"
        },
        "id": "0cluCKMeX3dv",
        "outputId": "e53279a6-5cb4-4a8d-e695-65afac408405"
      },
      "execution_count": 162,
      "outputs": [
        {
          "output_type": "stream",
          "name": "stdout",
          "text": [
            "Bài 41:\n",
            "Original string: hello world!\n",
            "After stripping vowels: hll wrld!\n"
          ]
        }
      ]
    },
    {
      "cell_type": "markdown",
      "source": [
        "42. Write a Python program to count repeated characters in a string.\n",
        "Sample string: 'thequickbrownfoxjumpsoverthelazydog'\n",
        "Expected output :\n",
        "o 4\n",
        "e 3\n",
        "u 2\n",
        "h 2\n",
        "r 2\n",
        "t 2"
      ],
      "metadata": {
        "id": "J2VRnnjVUpOj"
      }
    },
    {
      "cell_type": "code",
      "source": [
        "def count_repeated_characters(string):\n",
        "    from collections import Counter\n",
        "    counter = Counter(string)\n",
        "    return {char: count for char, count in counter.items() if count > 1}\n",
        "\n",
        "print(\"\\nBài 42:\")\n",
        "s = \"thequickbrownfoxjumpsoverthelazydog\"\n",
        "repeats = count_repeated_characters(s)\n",
        "for char, count in repeats.items():\n",
        "    print(f\"{char} {count}\")"
      ],
      "metadata": {
        "colab": {
          "base_uri": "https://localhost:8080/"
        },
        "id": "mrKiRw7FX8UC",
        "outputId": "31dfaaac-6591-4cc0-fda3-beb51018f9ad"
      },
      "execution_count": 163,
      "outputs": [
        {
          "output_type": "stream",
          "name": "stdout",
          "text": [
            "\n",
            "Bài 42:\n",
            "t 2\n",
            "h 2\n",
            "e 3\n",
            "u 2\n",
            "r 2\n",
            "o 4\n"
          ]
        }
      ]
    },
    {
      "cell_type": "markdown",
      "source": [
        "43. Write a Python program to print the square and cube symbols in the area of a rectangle and\n",
        "the volume of a cylinder.\n",
        "Sample output:\n",
        "The area of the rectangle is 1256.66cm2\n",
        "The volume of the cylinder is 1254.725cm3"
      ],
      "metadata": {
        "id": "oKxIVGgbUqbA"
      }
    },
    {
      "cell_type": "code",
      "source": [
        "def rectangle_area(length, width):\n",
        "    area = length * width\n",
        "    return f\"The area of the rectangle is {area:.2f}cm\\u00b2\"\n",
        "\n",
        "def cylinder_volume(radius, height):\n",
        "    import math\n",
        "    volume = math.pi * radius**2 * height\n",
        "    return f\"The volume of the cylinder is {volume:.3f}cm\\u00b3\"\n",
        "\n",
        "print(\"\\nBài 43:\")\n",
        "print(rectangle_area(23.4, 53.7))\n",
        "print(cylinder_volume(7, 8.15))"
      ],
      "metadata": {
        "colab": {
          "base_uri": "https://localhost:8080/"
        },
        "id": "PO8hYGzPYD_6",
        "outputId": "65108f02-b035-4f47-c786-2f6a7cbe87ff"
      },
      "execution_count": 164,
      "outputs": [
        {
          "output_type": "stream",
          "name": "stdout",
          "text": [
            "\n",
            "Bài 43:\n",
            "The area of the rectangle is 1256.58cm²\n",
            "The volume of the cylinder is 1254.595cm³\n"
          ]
        }
      ]
    },
    {
      "cell_type": "markdown",
      "source": [
        "44. Write a Python program to print the index of a character in a string.\n",
        "Sample string: w3resource\n",
        "Expected output:\n",
        "Current character w position at 0\n",
        "Current character 3 position at 1\n",
        "Current character r position at 2\n",
        "- - - - - - - - - - - - - - - - - - - - - - - - -\n",
        "Current character c position at 8\n",
        "Current character e position at 9"
      ],
      "metadata": {
        "id": "_wzF3scxUsNi"
      }
    },
    {
      "cell_type": "code",
      "source": [
        "def print_char_positions(string):\n",
        "    return [f\"Current character {char} position at {i}\" for i, char in enumerate(string)]\n",
        "\n",
        "print(\"\\nBài 44:\")\n",
        "s = \"w3resource\"\n",
        "for line in print_char_positions(s):\n",
        "    print(line)"
      ],
      "metadata": {
        "colab": {
          "base_uri": "https://localhost:8080/"
        },
        "id": "hLGQ_NYGYIQI",
        "outputId": "85d8e357-16ae-4716-f54b-fb5cd888cbc8"
      },
      "execution_count": 165,
      "outputs": [
        {
          "output_type": "stream",
          "name": "stdout",
          "text": [
            "\n",
            "Bài 44:\n",
            "Current character w position at 0\n",
            "Current character 3 position at 1\n",
            "Current character r position at 2\n",
            "Current character e position at 3\n",
            "Current character s position at 4\n",
            "Current character o position at 5\n",
            "Current character u position at 6\n",
            "Current character r position at 7\n",
            "Current character c position at 8\n",
            "Current character e position at 9\n"
          ]
        }
      ]
    },
    {
      "cell_type": "markdown",
      "source": [
        "45. Write a Python program to check whether a string contains all letters of the alphabet."
      ],
      "metadata": {
        "id": "jNH2buxdUtd3"
      }
    },
    {
      "cell_type": "code",
      "source": [
        "def contains_all_alphabets(string):\n",
        "    return set('abcdefghijklmnopqrstuvwxyz').issubset(set(string.lower()))\n",
        "\n",
        "print(\"\\nBài 45:\")\n",
        "s = \"The quick brown fox jumps over the lazy dog\"\n",
        "print(f\"Contains all alphabet letters? {contains_all_alphabets(s)}\")"
      ],
      "metadata": {
        "colab": {
          "base_uri": "https://localhost:8080/"
        },
        "id": "kWvl87Q5YNEX",
        "outputId": "fcc80824-9467-4ef5-86d4-11bf93deff35"
      },
      "execution_count": 166,
      "outputs": [
        {
          "output_type": "stream",
          "name": "stdout",
          "text": [
            "\n",
            "Bài 45:\n",
            "Contains all alphabet letters? True\n"
          ]
        }
      ]
    },
    {
      "cell_type": "markdown",
      "source": [
        "46. Write a Python program to convert a given string into a list of words.\n",
        "Sample Output:\n",
        "['The', 'quick', 'brown', 'fox', 'jumps', 'over', 'the', 'lazy', 'dog.']\n",
        "['The', 'quick', 'brown', 'fox', 'jumps', 'over', 'the', 'lazy', 'dog.']"
      ],
      "metadata": {
        "id": "roqibZLHUu0R"
      }
    },
    {
      "cell_type": "code",
      "source": [
        "def string_to_word_list(string):\n",
        "    return string.split()\n",
        "\n",
        "print(\"Bài 46:\")\n",
        "s = \"The quick brown fox jumps over the lazy dog.\"\n",
        "print(string_to_word_list(s))"
      ],
      "metadata": {
        "colab": {
          "base_uri": "https://localhost:8080/"
        },
        "id": "HPqRzFG7YePA",
        "outputId": "ebd1bd69-27a6-4f1a-cae9-38f07330e82a"
      },
      "execution_count": 167,
      "outputs": [
        {
          "output_type": "stream",
          "name": "stdout",
          "text": [
            "Bài 46:\n",
            "['The', 'quick', 'brown', 'fox', 'jumps', 'over', 'the', 'lazy', 'dog.']\n"
          ]
        }
      ]
    },
    {
      "cell_type": "markdown",
      "source": [
        "47. Write a Python program to lowercase the first n characters in a string."
      ],
      "metadata": {
        "id": "ztZoEaDeUwJp"
      }
    },
    {
      "cell_type": "code",
      "source": [
        "def lowercase_first_n(string, n):\n",
        "    return string[:n].lower() + string[n:]\n",
        "\n",
        "print(\"\\nBài 47:\")\n",
        "s = \"PYTHONprogramming\"\n",
        "print(f\"Original: {s}\")\n",
        "print(f\"Lowercased first 6: {lowercase_first_n(s, 6)}\")"
      ],
      "metadata": {
        "colab": {
          "base_uri": "https://localhost:8080/"
        },
        "id": "VLKu-8bPYg7k",
        "outputId": "0f745a45-b703-46bf-df9e-ce76e88b0226"
      },
      "execution_count": 168,
      "outputs": [
        {
          "output_type": "stream",
          "name": "stdout",
          "text": [
            "\n",
            "Bài 47:\n",
            "Original: PYTHONprogramming\n",
            "Lowercased first 6: pythonprogramming\n"
          ]
        }
      ]
    },
    {
      "cell_type": "markdown",
      "source": [
        "48. Write a Python program to swap commas and dots in a string.\n",
        "Sample string: \"32.054,23\"\n",
        "Expected Output: \"32,054.23\""
      ],
      "metadata": {
        "id": "axQjzVGLUxcE"
      }
    },
    {
      "cell_type": "code",
      "source": [
        "def swap_comma_dot(string):\n",
        "    return string.replace('.', '#').replace(',', '.').replace('#', ',')\n",
        "\n",
        "print(\"\\nBài 48:\")\n",
        "s = \"32.054,23\"\n",
        "print(f\"Original: {s}\")\n",
        "print(f\"Swapped: {swap_comma_dot(s)}\")"
      ],
      "metadata": {
        "colab": {
          "base_uri": "https://localhost:8080/"
        },
        "id": "K89-BfpGYlhh",
        "outputId": "6f538697-27f9-4b38-fbbe-0819a25ab6ce"
      },
      "execution_count": 169,
      "outputs": [
        {
          "output_type": "stream",
          "name": "stdout",
          "text": [
            "\n",
            "Bài 48:\n",
            "Original: 32.054,23\n",
            "Swapped: 32,054.23\n"
          ]
        }
      ]
    },
    {
      "cell_type": "markdown",
      "source": [
        "49. Write a Python program to count and display vowels in text."
      ],
      "metadata": {
        "id": "hd4Fs1L3UzLD"
      }
    },
    {
      "cell_type": "code",
      "source": [
        "def count_vowels(text):\n",
        "    vowels = 'aeiouAEIOU'\n",
        "    return {char: text.count(char) for char in vowels if char in text}\n",
        "\n",
        "print(\"\\nBài 49:\")\n",
        "text = \"This is an example of a vowel counting function.\"\n",
        "vowel_counts = count_vowels(text)\n",
        "for v, count in vowel_counts.items():\n",
        "    print(f\"{v}: {count}\")"
      ],
      "metadata": {
        "colab": {
          "base_uri": "https://localhost:8080/"
        },
        "id": "EwPUVNjXYrRN",
        "outputId": "44791971-9481-4b04-8744-17d445b7d766"
      },
      "execution_count": 170,
      "outputs": [
        {
          "output_type": "stream",
          "name": "stdout",
          "text": [
            "\n",
            "Bài 49:\n",
            "a: 3\n",
            "e: 3\n",
            "i: 4\n",
            "o: 4\n",
            "u: 2\n"
          ]
        }
      ]
    },
    {
      "cell_type": "markdown",
      "source": [
        "50. Write a Python program to split a string on the last occurrence of the delimiter."
      ],
      "metadata": {
        "id": "Z_380bJCU0b_"
      }
    },
    {
      "cell_type": "code",
      "source": [
        "def split_on_last_delimiter(string, delimiter):\n",
        "    return string.rsplit(delimiter, 1)\n",
        "\n",
        "print(\"\\nBài 50:\")\n",
        "s = \"https://www.example.com/path/page.html\"\n",
        "print(split_on_last_delimiter(s, '/'))"
      ],
      "metadata": {
        "colab": {
          "base_uri": "https://localhost:8080/"
        },
        "id": "uwc__-0AY2bS",
        "outputId": "d3e4992a-9916-4ffc-830f-ddb34ba26183"
      },
      "execution_count": 171,
      "outputs": [
        {
          "output_type": "stream",
          "name": "stdout",
          "text": [
            "\n",
            "Bài 50:\n",
            "['https://www.example.com/path', 'page.html']\n"
          ]
        }
      ]
    },
    {
      "cell_type": "markdown",
      "source": [
        "51. Write a Python program to find the first non-repeating character in a given string."
      ],
      "metadata": {
        "id": "IIL387fYU1ap"
      }
    },
    {
      "cell_type": "code",
      "source": [
        "def first_non_repeating_char(string):\n",
        "    from collections import Counter\n",
        "    counter = Counter(string)\n",
        "    for char in string:\n",
        "        if counter[char] == 1:\n",
        "            return char\n",
        "    return None\n",
        "\n",
        "print(\"Bài 51:\")\n",
        "s = \"abcdefabc\"\n",
        "print(f\"First non-repeating character in '{s}': {first_non_repeating_char(s)}\")"
      ],
      "metadata": {
        "colab": {
          "base_uri": "https://localhost:8080/"
        },
        "id": "-Tb27BNcY95t",
        "outputId": "5ba684f4-859a-4035-a38b-7aa96d75a9a3"
      },
      "execution_count": 172,
      "outputs": [
        {
          "output_type": "stream",
          "name": "stdout",
          "text": [
            "Bài 51:\n",
            "First non-repeating character in 'abcdefabc': d\n"
          ]
        }
      ]
    },
    {
      "cell_type": "markdown",
      "source": [
        "52. Write a Python program to print all permutations with a given repetition number of characters\n",
        "of a given string."
      ],
      "metadata": {
        "id": "IuqQMGr1U2hW"
      }
    },
    {
      "cell_type": "code",
      "source": [
        "def permutations_with_repetition(string, r):\n",
        "    from itertools import product\n",
        "    return [''.join(p) for p in product(string, repeat=r)]\n",
        "\n",
        "print(\"\\nBài 52:\")\n",
        "s = \"abc\"\n",
        "r = 2\n",
        "print(f\"Permutations of '{s}' with repeat={r}:\")\n",
        "print(permutations_with_repetition(s, r))"
      ],
      "metadata": {
        "colab": {
          "base_uri": "https://localhost:8080/"
        },
        "id": "YiT-IdrYZAbs",
        "outputId": "6f3137c6-86ff-44c4-83c1-11e5112d457a"
      },
      "execution_count": 173,
      "outputs": [
        {
          "output_type": "stream",
          "name": "stdout",
          "text": [
            "\n",
            "Bài 52:\n",
            "Permutations of 'abc' with repeat=2:\n",
            "['aa', 'ab', 'ac', 'ba', 'bb', 'bc', 'ca', 'cb', 'cc']\n"
          ]
        }
      ]
    },
    {
      "cell_type": "markdown",
      "source": [
        "53. Write a Python program to find the first repeated character in a given string."
      ],
      "metadata": {
        "id": "Rj9NED5gU3ut"
      }
    },
    {
      "cell_type": "code",
      "source": [
        "def first_repeated_char(string):\n",
        "    seen = set()\n",
        "    for char in string:\n",
        "        if char in seen:\n",
        "            return char\n",
        "        seen.add(char)\n",
        "    return None\n",
        "\n",
        "print(\"\\nBài 53:\")\n",
        "s = \"abcadef\"\n",
        "print(f\"First repeated character in '{s}': {first_repeated_char(s)}\")"
      ],
      "metadata": {
        "colab": {
          "base_uri": "https://localhost:8080/"
        },
        "id": "LBarweIcZDB_",
        "outputId": "de1771ed-8b1e-411c-dc91-bab90313c94a"
      },
      "execution_count": 174,
      "outputs": [
        {
          "output_type": "stream",
          "name": "stdout",
          "text": [
            "\n",
            "Bài 53:\n",
            "First repeated character in 'abcadef': a\n"
          ]
        }
      ]
    },
    {
      "cell_type": "markdown",
      "source": [
        "54. Write a Python program to find the first repeated character in a given string where the index\n",
        "of the first occurrence is smallest."
      ],
      "metadata": {
        "id": "X2dm5VAIU4_c"
      }
    },
    {
      "cell_type": "code",
      "source": [
        "def first_repeated_char_smallest_index(string):\n",
        "    seen = {}\n",
        "    for i, char in enumerate(string):\n",
        "        if char in seen:\n",
        "            return char\n",
        "        seen[char] = i\n",
        "    return None\n",
        "\n",
        "print(\"\\nBài 54:\")\n",
        "s = \"xyzwxzy\"\n",
        "print(f\"First repeated character with smallest index in '{s}': {first_repeated_char_smallest_index(s)}\")"
      ],
      "metadata": {
        "colab": {
          "base_uri": "https://localhost:8080/"
        },
        "id": "WKsYdZDNZHdY",
        "outputId": "5d1c80ad-6c16-4ae3-8c0b-b1bef9c73614"
      },
      "execution_count": 175,
      "outputs": [
        {
          "output_type": "stream",
          "name": "stdout",
          "text": [
            "\n",
            "Bài 54:\n",
            "First repeated character with smallest index in 'xyzwxzy': x\n"
          ]
        }
      ]
    },
    {
      "cell_type": "markdown",
      "source": [
        "55.Write a Python program to find the first repeated word in a given string."
      ],
      "metadata": {
        "id": "yUhENfO5U6H9"
      }
    },
    {
      "cell_type": "code",
      "source": [
        "def first_repeated_word(string):\n",
        "    words = string.split()\n",
        "    seen = set()\n",
        "    for word in words:\n",
        "        if word in seen:\n",
        "            return word\n",
        "        seen.add(word)\n",
        "    return None\n",
        "\n",
        "print(\"\\nBài 55:\")\n",
        "s = \"this is a test this is only a test\"\n",
        "print(f\"First repeated word in '{s}': {first_repeated_word(s)}\")"
      ],
      "metadata": {
        "colab": {
          "base_uri": "https://localhost:8080/"
        },
        "id": "Z6zAjmhEZJWd",
        "outputId": "aaf5af05-eb8a-42ec-80b8-5c354ee5d642"
      },
      "execution_count": 176,
      "outputs": [
        {
          "output_type": "stream",
          "name": "stdout",
          "text": [
            "\n",
            "Bài 55:\n",
            "First repeated word in 'this is a test this is only a test': this\n"
          ]
        }
      ]
    }
  ]
}
